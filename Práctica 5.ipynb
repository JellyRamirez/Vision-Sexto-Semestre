{
 "cells": [
  {
   "cell_type": "markdown",
   "metadata": {},
   "source": [
    "# Transformadas de Hough Solo Rectas"
   ]
  },
  {
   "cell_type": "code",
   "execution_count": null,
   "metadata": {},
   "outputs": [],
   "source": [
    "import cv2\n",
    "import numpy as np\n",
    "\n",
    "#Se lee la imagen\n",
    "img = cv2.imread('VisionRobotica.jpg')\n",
    "#Se convierte a escala de grises\n",
    "gray = cv2.cvtColor(img, cv2.COLOR_BGR2GRAY)\n",
    "edges = cv2.Canny(gray, 50, 150, apertureSize = 3)\n",
    "\n",
    "lines = cv2.HoughLines(edges, 1, np.pi/180, 200)\n",
    "\n",
    "for line in lines:\n",
    "    rho, theta = line[0]\n",
    "    a = np.cos(theta)\n",
    "    b = np.sin(theta)\n",
    "    x0 = a*rho\n",
    "    y0 = b*rho\n",
    "    x1 = int(x0 + 1000*(-b))\n",
    "    y1 = int(y0 + 1000*(a))\n",
    "    x2 = int(x0 - 1000*(-b))\n",
    "    y2 = int(y0 - 1000*(a))\n",
    "\n",
    "    cv2.line(img, (x1,y1), (x2,y2), (0, 0, 255), 1, cv2.LINE_AA)\n",
    "\n",
    "cv2.imshow('Bordes de Imagen', edges)\n",
    "cv2.imshow('Detector de Lineas', img)\n",
    "cv2.waitKey()"
   ]
  },
  {
   "cell_type": "code",
   "execution_count": null,
   "metadata": {},
   "outputs": [],
   "source": [
    "import cv2 \n",
    "import numpy as np \n",
    "  \n",
    "img = cv2.imread('VisionRobotica.jpg') \n",
    "  \n",
    "gray = cv2.cvtColor(img,cv2.COLOR_BGR2GRAY) \n",
    "  \n",
    "edges = cv2.Canny(gray,50,150,apertureSize = 3) \n",
    "  \n",
    "lines = cv2.HoughLines(edges,1,np.pi/180, 200) \n",
    "  \n",
    "for r,theta in lines[0]:  \n",
    "    a = np.cos(theta) \n",
    "    b = np.sin(theta) \n",
    "    x0 = a*r \n",
    "    y0 = b*r \n",
    "    x1 = int(x0 + 1000*(-b)) \n",
    "    y1 = int(y0 + 1000*(a)) \n",
    "    x2 = int(x0 - 1000*(-b)) \n",
    "    y2 = int(y0 - 1000*(a)) \n",
    "      \n",
    "    cv2.line(img,(x1,y1),(x2,y2),(0,0,255),2) \n",
    "      \n",
    "    cv2.imwrite('linesDetected.jpg', img) "
   ]
  },
  {
   "cell_type": "code",
   "execution_count": 2,
   "metadata": {},
   "outputs": [
    {
     "data": {
      "text/plain": [
       "-1"
      ]
     },
     "execution_count": 2,
     "metadata": {},
     "output_type": "execute_result"
    }
   ],
   "source": [
    "import cv2\n",
    "import numpy as np\n",
    "\n",
    "# Read image \n",
    "img = cv2.imread('Sudoku.jpg', cv2.IMREAD_COLOR) # road.png is the filename\n",
    "# Convert the image to gray-scale\n",
    "gray = cv2.cvtColor(img, cv2.COLOR_BGR2GRAY)\n",
    "# Find the edges in the image using canny detector\n",
    "edges = cv2.Canny(gray, 50, 200)\n",
    "# Detect points that form a line\n",
    "lines = cv2.HoughLinesP(edges, 1, np.pi/180, 30, minLineLength=10, maxLineGap=250)\n",
    "# Draw lines on the image\n",
    "for line in lines:\n",
    "    x1, y1, x2, y2 = line[0]\n",
    "    cv2.line(img, (x1, y1), (x2, y2), (255, 0, 0), 3)\n",
    "# Show result\n",
    "cv2.imshow(\"Result Image\", img)\n",
    "cv2.waitKey()"
   ]
  },
  {
   "cell_type": "markdown",
   "metadata": {},
   "source": [
    "# Transformadas de Hough Probabilistica"
   ]
  },
  {
   "cell_type": "code",
   "execution_count": 31,
   "metadata": {},
   "outputs": [
    {
     "data": {
      "text/plain": [
       "-1"
      ]
     },
     "execution_count": 31,
     "metadata": {},
     "output_type": "execute_result"
    }
   ],
   "source": [
    "import cv2\n",
    "import numpy as np\n",
    "\n",
    "img = cv2.imread('VisionRobotica.jpg')\n",
    "gray = cv2.cvtColor(img, cv2.COLOR_BGR2GRAY)\n",
    "edges = cv2.Canny(gray, 50, 150, apertureSize = 3)\n",
    "\n",
    "lines = cv2.HoughLinesP(edges, 1, np.pi/180, 100, minLineLength=100, maxLineGap=10)\n",
    "\n",
    "for line in lines:\n",
    "    x1, y1, x2, y2 = line[0]\n",
    "    cv2.line(img, (x1,y1), (x2,y2), (0,255,0), 1, cv2.LINE_AA)\n",
    "\n",
    "cv2.imshow('Bordes de Iamgen', edges)\n",
    "cv2.imshow('Detector de Lineas', img)\n",
    "cv2.waitKey()"
   ]
  },
  {
   "cell_type": "markdown",
   "metadata": {},
   "source": [
    "# Transformadas de Hough Círculos"
   ]
  },
  {
   "cell_type": "code",
   "execution_count": 3,
   "metadata": {},
   "outputs": [],
   "source": [
    "import cv2\n",
    "import numpy as np\n",
    "\n",
    "img = cv2.imread('VisionRobotica.jpg')\n",
    "src = cv2.medianBlur(img, 5)\n",
    "src = cv2.cvtColor(src, cv2.COLOR_BGR2GRAY)\n",
    "\n",
    "circles = cv2.HoughCircles(src, cv2.HOUGH_GRADIENT, 1, 20,\n",
    "                            param1=50, param2=30, minRadius=0, maxRadius=0)\n",
    "\n",
    "circles = np.uint16(np.around(circles))\n",
    "for i in circles[0,:]:\n",
    "    # dibujar circulo \n",
    "    cv2.circle(img, (i[0], i[1]), i[2], (0,255,0), 2)\n",
    "    # dibujar centro\n",
    "    cv2.circle(img, (i[0], i[1]), 2, (0,0,255), 3)\n",
    "\n",
    "cv2.imshow('detected circles', img)\n",
    "cv2.waitKey(0)\n",
    "cv2.destroyAllWindows()"
   ]
  },
  {
   "cell_type": "code",
   "execution_count": 4,
   "metadata": {},
   "outputs": [
    {
     "data": {
      "text/plain": [
       "-1"
      ]
     },
     "execution_count": 4,
     "metadata": {},
     "output_type": "execute_result"
    }
   ],
   "source": [
    "import cv2\n",
    "import numpy as np\n",
    "\n",
    "# Read image as gray-scale\n",
    "img = cv2.imread('VisionRobotica.jpg', cv2.IMREAD_COLOR)\n",
    "# Convert to gray-scale\n",
    "gray = cv2.cvtColor(img, cv2.COLOR_BGR2GRAY)\n",
    "# Blur the image to reduce noise\n",
    "img_blur = cv2.medianBlur(gray, 5)\n",
    "# Apply hough transform on the image\n",
    "circles = cv2.HoughCircles(img_blur, cv2.HOUGH_GRADIENT, 1, img.shape[0]/64, param1=200, param2=10, minRadius=5, maxRadius=30)\n",
    "# Draw detected circles\n",
    "if circles is not None:\n",
    "    circles = np.uint16(np.around(circles))\n",
    "    for i in circles[0, :]:\n",
    "        # Draw outer circle\n",
    "        cv2.circle(img, (i[0], i[1]), i[2], (0, 255, 0), 2)\n",
    "        # Draw inner circle\n",
    "        cv2.circle(img, (i[0], i[1]), 2, (0, 0, 255), 3)\n",
    "\n",
    "cv2.imshow(\"Result Image\", img)\n",
    "cv2.waitKey()\n"
   ]
  }
 ],
 "metadata": {
  "interpreter": {
   "hash": "1e649b193d03f972cce0fc4f5c57764441ad8ceea30bfcf30b505dea29a3b4c0"
  },
  "kernelspec": {
   "display_name": "Python 3.10.2 64-bit",
   "language": "python",
   "name": "python3"
  },
  "language_info": {
   "codemirror_mode": {
    "name": "ipython",
    "version": 3
   },
   "file_extension": ".py",
   "mimetype": "text/x-python",
   "name": "python",
   "nbconvert_exporter": "python",
   "pygments_lexer": "ipython3",
   "version": "3.9.10"
  },
  "orig_nbformat": 4
 },
 "nbformat": 4,
 "nbformat_minor": 2
}
