{
 "cells": [
  {
   "cell_type": "markdown",
   "metadata": {},
   "source": [
    "# Ecualización con OpenCV"
   ]
  },
  {
   "cell_type": "code",
   "execution_count": null,
   "metadata": {},
   "outputs": [],
   "source": [
    "import cv2\n",
    "import numpy as np\n",
    "from matplotlib import pyplot as plt\n",
    "\n",
    "img = cv2.imread('ImagenRGB.jpg', cv2.IMREAD_GRAYSCALE)\n",
    "img = cv2.equalizeHist(img)\n",
    "cv2.imwrite('ImagenEcualizadaOpenCv.jpg',img)\n",
    "\n",
    "cv2.imshow('Histogramas', img)\n",
    "cv2.waitKey()\n",
    "cv2.destroyAllWindows()\n",
    "\n",
    "hist = cv2.calcHist([img], [0], None, [256], [0, 256])\n",
    "plt.plot(hist, color='gray' )\n",
    "\n",
    "plt.xlabel('Valores de intensidad')\n",
    "plt.ylabel('Número de pixeles')\n",
    "plt.show()"
   ]
  },
  {
   "cell_type": "markdown",
   "metadata": {},
   "source": [
    "# Ecualización con Pillow"
   ]
  },
  {
   "cell_type": "code",
   "execution_count": null,
   "metadata": {},
   "outputs": [],
   "source": [
    "from PIL import Image\n",
    "\n",
    "#Carga de la imagen convirtiendo de RGB a escala de grises\n",
    "img=Image.open('ImagenRGB.jpg').convert('L')\n",
    "\n",
    "#Datos del histograma\n",
    "histograma=img.histogram()\n",
    "\n",
    "#Calculo del histograma acumulativo\n",
    "histograma_acumulativo=[]\n",
    "sumatoria=0\n",
    "\n",
    "for x in histograma:\n",
    "    sumatoria+=x\n",
    "    histograma_acumulativo.append(sumatoria)\n",
    "\n",
    "#Extraccion de los valores de los pixeles\n",
    "datos=img.getdata()\n",
    "\n",
    "#Ecualizacion lineal\n",
    "datos_lineales=[]\n",
    "h_w=img.height*img.width\n",
    "auxiliar=255/h_w\n",
    "for x in datos:\n",
    "    datos_lineales.append(round(histograma_acumulativo[x]*auxiliar))\n",
    "\n",
    "#Creacion de la imagen ecualizada\n",
    "img_e=Image.new('L', img.size)\n",
    "img_e.putdata(datos_lineales)\n",
    "img_e.save('ImagenEcualizadaPillow.jpg')\n",
    "img.close()\n",
    "img_e.close()"
   ]
  }
 ],
 "metadata": {
  "interpreter": {
   "hash": "1e649b193d03f972cce0fc4f5c57764441ad8ceea30bfcf30b505dea29a3b4c0"
  },
  "kernelspec": {
   "display_name": "Python 3.10.2 64-bit",
   "language": "python",
   "name": "python3"
  },
  "language_info": {
   "name": "python",
   "version": "3.10.2"
  },
  "orig_nbformat": 4
 },
 "nbformat": 4,
 "nbformat_minor": 2
}
