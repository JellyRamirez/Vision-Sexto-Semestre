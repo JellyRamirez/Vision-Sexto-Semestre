{
 "cells": [
  {
   "cell_type": "markdown",
   "metadata": {},
   "source": [
    "# Sharpen con Pillow Función SHARPEN()"
   ]
  },
  {
   "cell_type": "code",
   "execution_count": 30,
   "metadata": {},
   "outputs": [],
   "source": [
    "from PIL import Image\n",
    "from PIL import ImageFilter\n",
    "\n",
    "img = Image.open(\"ImagenRGB.jpg\")\n",
    "img.show()\n",
    "\n",
    "img_s1 = img.filter(ImageFilter.SHARPEN)\n",
    "img_s1.save('Imagen_Sharpen.jpg')\n",
    "\n",
    "img_s1.show()\n"
   ]
  },
  {
   "cell_type": "markdown",
   "metadata": {},
   "source": [
    "# Blur con Pillow Función BLUR()"
   ]
  },
  {
   "cell_type": "code",
   "execution_count": 29,
   "metadata": {},
   "outputs": [],
   "source": [
    "\n",
    "from PIL import Image, ImageFilter\n",
    "\n",
    "img = Image.open('ImagenRGB.jpg')\n",
    "img.show()\n",
    "\n",
    "img_b = img.filter(ImageFilter.BLUR)\n",
    "img_b.show()\n",
    "\n",
    "img_b.save('Imagen_Blur.jpg')"
   ]
  },
  {
   "cell_type": "markdown",
   "metadata": {},
   "source": [
    "# Corrimiento a la izquierda Pillow"
   ]
  },
  {
   "cell_type": "code",
   "execution_count": 32,
   "metadata": {},
   "outputs": [],
   "source": [
    "from PIL import Image, ImageFilter\n",
    " \n",
    "img = Image.open('ImagenRGB.jpg')\n",
    " \n",
    "tamaño = (3,3)\n",
    "coeficientes=[0, 0, 0, 0, 0, 5000, 0, 0, 0]\n",
    " \n",
    "img_f = img.filter(ImageFilter.Kernel(tamaño, coeficientes))\n",
    " \n",
    "img_f.save('Corrimiento_izquierda.jpg')\n",
    "img_f.show()\n",
    "img.show()\n"
   ]
  },
  {
   "cell_type": "markdown",
   "metadata": {},
   "source": [
    "# Corrimiento a la derecha Pillow"
   ]
  },
  {
   "cell_type": "code",
   "execution_count": 25,
   "metadata": {},
   "outputs": [],
   "source": [
    "from PIL import Image, ImageFilter\n",
    " \n",
    "img = Image.open('ImagenRGB.jpg')\n",
    " \n",
    "tamaño = (3,3)\n",
    "coeficientes=[0, 0, 0, 5000 , 0, 0, 0, 0, 0]\n",
    " \n",
    "img_f = img.filter(ImageFilter.Kernel(tamaño, coeficientes))\n",
    " \n",
    "img_f.save('Corrimiento_derecha.jpg')\n",
    "img_f.show()\n",
    "img.show()\n"
   ]
  },
  {
   "cell_type": "markdown",
   "metadata": {},
   "source": [
    "# Sharpen con OpenCV"
   ]
  },
  {
   "cell_type": "code",
   "execution_count": 8,
   "metadata": {},
   "outputs": [],
   "source": [
    "import cv2\n",
    "import numpy as np\n",
    "\n",
    "#Abrimos imagen y la mostramos\n",
    "img = cv2.imread('ImagenRGB.jpg')\n",
    "cv2.imshow('Imagen Original', img)\n",
    "cv2.waitKey()\n",
    "cv2.destroyAllWindows()\n",
    "\n",
    "#Generamos el kernel\n",
    "kernel = np.array([[0, -1, 0],\n",
    "                [-1,  5, -1],\n",
    "                  [0, -1, 0]])   \n",
    "\n",
    "img_s = cv2.filter2D(src = img, ddepth = -1, kernel = kernel)\n",
    "cv2.imshow('Imagen Sharpened', img_s)\n",
    "cv2.imwrite('Imagen_Sharpened_OpenCV.jpg', img_s)\n",
    "cv2.waitKey()\n",
    "cv2.destroyAllWindows()\n"
   ]
  },
  {
   "cell_type": "markdown",
   "metadata": {},
   "source": [
    "# Blur con OpenCV "
   ]
  },
  {
   "cell_type": "code",
   "execution_count": 10,
   "metadata": {},
   "outputs": [],
   "source": [
    "import cv2\n",
    "import numpy as np\n",
    "\n",
    "#Abrimos imagen y la mostramos\n",
    "img = cv2.imread('ImagenRGB.jpg')\n",
    "cv2.imshow('Imagen Original', img)\n",
    "cv2.waitKey()\n",
    "cv2.destroyAllWindows()\n",
    "\n",
    "#Generamos el kernel\n",
    "kernel = np.ones((3,3),np.float32)/9\n",
    "\n",
    "\n",
    "img_b = cv2.filter2D(src = img, ddepth = -1, kernel = kernel)\n",
    "cv2.imshow('Imagen Blur', img_b)\n",
    "cv2.imwrite('Imagen_Blur_OpenCV.jpg', img_b)\n",
    "cv2.waitKey()\n",
    "cv2.destroyAllWindows()\n"
   ]
  },
  {
   "cell_type": "markdown",
   "metadata": {},
   "source": [
    "# Blur con OpenCv 2"
   ]
  },
  {
   "cell_type": "code",
   "execution_count": 3,
   "metadata": {},
   "outputs": [],
   "source": [
    "import cv2\n",
    "\n",
    "#Abrimos imagen y la mostramos\n",
    "img = cv2.imread('ImagenRGB.jpg')\n",
    "cv2.imshow('Imagen Original', img)\n",
    "cv2.waitKey()\n",
    "cv2.destroyAllWindows()\n",
    "\n",
    "kernel = (3,3)\n",
    "\n",
    "img_b = cv2.blur(img, kernel)\n",
    "cv2.imshow('Imagen Blurred', img_b)\n",
    "cv2.waitKey()\n",
    "cv2.destroyAllWindows()\n",
    "\n",
    "\n"
   ]
  }
 ],
 "metadata": {
  "interpreter": {
   "hash": "1e649b193d03f972cce0fc4f5c57764441ad8ceea30bfcf30b505dea29a3b4c0"
  },
  "kernelspec": {
   "display_name": "Python 3.10.2 64-bit",
   "language": "python",
   "name": "python3"
  },
  "language_info": {
   "codemirror_mode": {
    "name": "ipython",
    "version": 3
   },
   "file_extension": ".py",
   "mimetype": "text/x-python",
   "name": "python",
   "nbconvert_exporter": "python",
   "pygments_lexer": "ipython3",
   "version": "3.10.2"
  },
  "orig_nbformat": 4
 },
 "nbformat": 4,
 "nbformat_minor": 2
}
